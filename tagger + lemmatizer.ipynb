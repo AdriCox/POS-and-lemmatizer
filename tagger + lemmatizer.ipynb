{
 "cells": [
  {
   "cell_type": "code",
   "execution_count": 1,
   "id": "b6ab2584",
   "metadata": {},
   "outputs": [],
   "source": [
    "#Tratamiento de archivo .conllu\n",
    "import pyconll as cnll\n",
    "\n",
    "#Pandas para el lemmatizador (Evitamos diccionarios, son más lentos)\n",
    "import pandas as pd\n",
    "\n",
    "#CRF y varios para modelo TAGGER\n",
    "from sklearn_crfsuite import CRF\n",
    "from sklearn_crfsuite import metrics\n",
    "from sklearn_crfsuite import scorers\n",
    "import random\n",
    "\n",
    "#REGEX para las funciones\n",
    "import re\n",
    "\n",
    "#PKL para los modelos\n",
    "import pickle"
   ]
  },
  {
   "cell_type": "code",
   "execution_count": 2,
   "id": "286ce0f4",
   "metadata": {},
   "outputs": [],
   "source": [
    "conll = cnll.load_from_file('ancora_train.conllu')"
   ]
  },
  {
   "cell_type": "code",
   "execution_count": 3,
   "id": "0b0d1af6",
   "metadata": {},
   "outputs": [
    {
     "name": "stdout",
     "output_type": "stream",
     "text": [
      "Frases: 14287 \n",
      " Palabras: 469366\n"
     ]
    }
   ],
   "source": [
    "frases = []#info de las frases + tokens\n",
    "tokens = []#Cada token tiene TODA la info de sí mismo con respecto al resto (por frase)\n",
    "for sentence in conll:\n",
    "    frases.append(sentence)\n",
    "    for token in sentence:\n",
    "        tokens.append(token)\n",
    "        \n",
    "print('Frases:', len(frases), '\\n','Palabras:', len(tokens))\n",
    "\n",
    "#Esta primera parte sirve para crear un archivo diferente, el \"superinfo\", que tiene\n",
    "#toda la info de las palabras del corpus"
   ]
  },
  {
   "cell_type": "markdown",
   "id": "6bb2ca2a",
   "metadata": {},
   "source": [
    "# Lemmatizador"
   ]
  },
  {
   "cell_type": "code",
   "execution_count": null,
   "id": "30459db9",
   "metadata": {},
   "outputs": [],
   "source": [
    "lemmas = []\n",
    "palabros = []\n",
    "for sentence in conll:\n",
    "    for token in sentence:\n",
    "        #print(token.form, token.lemma)\n",
    "        if token.form not in palabros:\n",
    "            palabros.append(token.form)\n",
    "            lemmas.append(token.lemma)\n",
    "    \n",
    "lemmatizador = pd.DataFrame()\n",
    "lemmatizador['Form'] = palabros\n",
    "lemmatizador['lemma'] = lemmas\n",
    "with open('lemmatizador', 'wb') as files:\n",
    "    pickle.dump(lemmatizador, files)"
   ]
  },
  {
   "cell_type": "code",
   "execution_count": 4,
   "id": "f36d1cc5",
   "metadata": {},
   "outputs": [],
   "source": [
    "def lemmatizer(palabra):\n",
    "    with open('lemmatizador' , 'rb') as f:\n",
    "        rl = pickle.load(f)\n",
    "    try:\n",
    "        return rl[rl['Form']==palabra].iloc[0,1]\n",
    "    except:\n",
    "        return 'No lemma'"
   ]
  },
  {
   "cell_type": "markdown",
   "id": "db2e9fde",
   "metadata": {},
   "source": [
    "# TAGGER"
   ]
  },
  {
   "cell_type": "code",
   "execution_count": 5,
   "id": "5c8a6d88",
   "metadata": {},
   "outputs": [],
   "source": [
    "#Crédito a David Moscoso por la función Camerino (https://github.com/dfmoscoso23)\n",
    "def camerino(frase):\n",
    "    with open('columnas', 'rb') as files:\n",
    "        colum=pickle.load(files)\n",
    "    df = pd.DataFrame(columns = ['Lemma', 'Punct','Mayus', 'Ultima', 'Primera',\n",
    "                                 'Suf_sus', 'Suf_adj','Suf_ver','Suf_adv',\n",
    "                                 'Afi_dim', 'Afi_aum', 'Afi_des'])\n",
    "    frase = frase.split()\n",
    "    for i in range(len(frase)):\n",
    "        tupla = listalizador(frase,i)\n",
    "        df.at[i,:] = tupla\n",
    "    listas=[]\n",
    "    for i in range(len(df)):\n",
    "        conjunto=list(colum)\n",
    "        lista_metible=[0 for x in range(len(colum))]\n",
    "        if df.Lemma.iloc[i] in conjunto:\n",
    "            indice=conjunto.index(df.Lemma.iloc[i])\n",
    "            lista_metible[indice]=1\n",
    "        for co in df.columns:\n",
    "            if co in conjunto:\n",
    "                indice=conjunto.index(co)\n",
    "                lista_metible[indice]=df[co].iloc[i]\n",
    "        listas.append(lista_metible)\n",
    "        \n",
    "    return listas"
   ]
  },
  {
   "cell_type": "code",
   "execution_count": 6,
   "id": "b58d5635",
   "metadata": {},
   "outputs": [],
   "source": [
    "def listalizador(frase, indice):   \n",
    "    palabra = frase[indice]\n",
    "    puntuacion = (',','\"',\"'\",'.',';',':','(',')','[',']','-','<','>','!','¡','?','¿','—')\n",
    "    sustantivadores = ('ada', 'eda', 'ado', 'ero', 'aje', 'era', 'al', 'ismo', 'ar', 'ista',\n",
    "                   'ato','azgo', 'azo', 'ancia', 'ez', 'encia','eza', 'dad', 'ismo',\n",
    "                   'edad', 'ada', 'idad', 'itud', 'tad', 'or', 'ería', 'ada','era', 'ado',\n",
    "                   'ición', 'aje', 'sión','ante', 'ido', 'ente' ,'amento', 'iente' ,'amiento'\n",
    "                   'ción', 'imiento', 'ación','dor', 'ura')\n",
    "    adjetivadores = ('al', 'iento', 'ienta', 'ario', 'aria', 'il', 'ero', 'era', 'ista',\n",
    "                     'esco','esca','oso', 'osa', 'izo', 'iza','oide', 'able', 'ible',\n",
    "                     'ante', 'dor','ente', 'iente', 'ivo', 'iva', 'or', 'ano', 'ana', 'ío')\n",
    "    verbalizadores = ('ar', 'ear', 'ecer', 'izar', 'ar', 'ficar')\n",
    "    aumentativos = ('ón', 'ona', 'azo', 'aza', 'ote', 'ota', 'udo', 'uda')\n",
    "    diminutivos = ('ito', 'ita', 'ico', 'ica', 'illo', 'illa', 'ete', 'eta', 'ín', 'ina',\n",
    "              'ejo', 'eja', 'uelo', 'huela')\n",
    "    despectivo = ('aco', 'acho', 'acha', 'ajo', 'aja', 'ales', 'alla',\n",
    "              'ángano', 'ángana', 'ango', 'anga', 'astre', 'astro',\n",
    "              'astra', 'engue', 'ingo', 'ingue', 'orio', 'orrio',\n",
    "              'orro', 'orra', 'uco', 'uca', 'ucho', 'ucha', 'ujo',\n",
    "              'uja', 'ute', 'uza')       \n",
    "    lista = []        \n",
    "    lista.append(lemmatizer(palabra)) #LEMMA \n",
    "    lista.append(1 if palabra in puntuacion else 0) #es puntuacion\n",
    "    lista.append(1 if palabra[0] == palabra[0].upper() else 0) #mayuscula\n",
    "    lista.append(1 if indice == len(frase)-1 else 0) #es la última\n",
    "    lista.append(1 if indice == 0 else 0) #es la primera\n",
    "    \n",
    "    \n",
    "    if len(palabra)>3: \n",
    "        #ciclo sustantivos\n",
    "        for i in range(2,8):\n",
    "            if palabra[-i:] in sustantivadores: \n",
    "                lista.append(1)\n",
    "                break\n",
    "        if len(lista)<6:\n",
    "            lista.append(0)\n",
    "        #ciclo adjetivos\n",
    "        for i in range(2,6):\n",
    "            if palabra[-i:] in adjetivadores: \n",
    "                lista.append(1)\n",
    "                break\n",
    "        if len(lista)<7:\n",
    "            lista.append(0)\n",
    "        #ciclo verbos\n",
    "        for i in range(2,6):\n",
    "            if palabra[-i:] in verbalizadores: \n",
    "                lista.append(1)\n",
    "                break\n",
    "        if len(lista)<8:\n",
    "            lista.append(0)\n",
    "                       \n",
    "        lista.append(1 if palabra[-5:] == 'mente' else 0)\n",
    "       \n",
    "    \n",
    "        #ciclo diminutivos: generalmente sustantivos, también ADJ\n",
    "        for i in range(2,6):\n",
    "            if palabra[-i:] in diminutivos: \n",
    "                lista.append(1)\n",
    "                break\n",
    "        if len(lista)<10:\n",
    "            lista.append(0)\n",
    "        #ciclo aumentativos: generalmente sustantivos, también ADJ\n",
    "        for i in range(2,4):\n",
    "            if palabra[-i:] in aumentativos: \n",
    "                lista.append(1)\n",
    "                break\n",
    "        if len(lista)<11:\n",
    "            lista.append(0)\n",
    "        #ciclo despectivos: generalmente sustantivos, también ADJ\n",
    "        for i in range(3,7):\n",
    "            if palabra[-i:] in despectivo: \n",
    "                lista.append(1)\n",
    "                break\n",
    "        if len(lista)<12:\n",
    "            lista.append(0)\n",
    "\n",
    "    else:\n",
    "        for i in range(7):\n",
    "            lista.append(0)\n",
    "        \n",
    "        \n",
    "    return tuple(lista)"
   ]
  },
  {
   "cell_type": "code",
   "execution_count": 7,
   "id": "da965908",
   "metadata": {},
   "outputs": [],
   "source": [
    "def tagger(frase):\n",
    "    with open('columnas', 'rb') as files:\n",
    "        colum=pickle.load(files)\n",
    "    dfiteo = pd.DataFrame(columns = colum)\n",
    "    for i,k in enumerate(camerino(frase)):\n",
    "        dfiteo.loc[i] = k\n",
    "    with open('RF_all_model' , 'rb') as f:\n",
    "        rf = pickle.load(f)\n",
    "    return rf.predict(dfiteo)"
   ]
  },
  {
   "cell_type": "markdown",
   "id": "359f3937",
   "metadata": {},
   "source": [
    "# Training del tagger"
   ]
  },
  {
   "cell_type": "code",
   "execution_count": 8,
   "id": "d16c3f7b",
   "metadata": {},
   "outputs": [],
   "source": [
    "# Corpus tratado (viene del ANCORA) con la info relevante, tarda un rato en crearse, \n",
    "# así que lo he adjuntado para que podáis echarle un ojo si queréis.\n",
    "with open('superinfo' , 'rb') as f:\n",
    "    rl = pickle.load(f)\n",
    "\n",
    "#drop X, SYM, NUM\n",
    "#drop INTJ cambiando los Sí por ADV\n",
    "#replace PART por ADV\n",
    "#IMPUTAR FALSE\n",
    "\n",
    "#-DROPPING DE X, SYM, NUM\n",
    "a = rl[rl['tagged']=='X'].index\n",
    "b = rl[rl['tagged']=='SYM'].index\n",
    "c = rl[rl['tagged']=='NUM'].index\n",
    "lista = []\n",
    "lista.extend(a)\n",
    "lista.extend(b)\n",
    "lista.extend(c)\n",
    "rl.drop(lista,axis=0,inplace=True)\n",
    "#-\n",
    "#-REPLACE DE PART por ADV\n",
    "rl. tagged = rl.tagged.str.replace('PART','ADV')\n",
    "#-\n",
    "#-DROPPING DE INTJ CON IMPUTACIÓN DE sí A ADV\n",
    "aa = rl[rl['tagged']=='INTJ'].index.values\n",
    "a = rl.loc[aa,'Lemma'][rl.loc[aa,'Lemma']!='sí'].index.values\n",
    "rl.drop(a,axis=0,inplace=True)\n",
    "a = rl[rl['tagged']=='INTJ'].index.values\n",
    "rl.loc[a,'tagged'] = 'ADV'\n",
    "#-\n",
    "#-IMPUTACIÓN DE FALSES: 'DEL' Y 'AL' SON DET\n",
    "a = rl[rl['Lemma']=='del'].tagged.index.values\n",
    "b = rl[rl['Lemma']=='al'].tagged.index.values\n",
    "lista = []\n",
    "lista.extend(a)\n",
    "lista.extend(b)\n",
    "rl.loc[lista,'tagged'] = 'DET'\n",
    "#-\n",
    "#-IMPUTACIÓN DE FALSES: TODOS SON VERB\n",
    "a = rl[rl.tagged.isna()].index.values\n",
    "rl.loc[a,'tagged'] = 'VERB'\n",
    "#-\n",
    "#DROPPING DE PROPN\n",
    "a = rl[rl['tagged']=='PROPN'].index.values\n",
    "rl. drop(a, axis=0, inplace=True)\n",
    "#-\n",
    "#-IMPUTACION AUX como VERB\n",
    "a = rl[rl['tagged']=='AUX'].index\n",
    "rl.loc[a,'tagged'] = 'VERB'\n",
    "#-\n",
    "#prueba = rl.drop(['Lemma','Previo','Posterior'], axis=1)\n",
    "#prueba = pd.concat([prueba, pd.get_dummies(rl['Lemma'])], axis=1)\n",
    "\n",
    "a = rl[rl.duplicated()].index\n",
    "rl.drop(a,axis=0,inplace=True)"
   ]
  },
  {
   "cell_type": "code",
   "execution_count": 9,
   "id": "1c23df66",
   "metadata": {},
   "outputs": [
    {
     "name": "stdout",
     "output_type": "stream",
     "text": [
      "CPU times: user 19.9 s, sys: 4.02 s, total: 23.9 s\n",
      "Wall time: 25.1 s\n"
     ]
    }
   ],
   "source": [
    "%%time\n",
    "prueba = rl.drop(['Lemma','Previo','Posterior'], axis=1)\n",
    "prueba = pd.concat([prueba, pd.get_dummies(rl['Lemma'])], axis=1)"
   ]
  },
  {
   "cell_type": "code",
   "execution_count": 10,
   "id": "b3692aee",
   "metadata": {},
   "outputs": [
    {
     "name": "stdout",
     "output_type": "stream",
     "text": [
      "NOUN     22474\n",
      "DET      15101\n",
      "VERB     14916\n",
      "ADP      13409\n",
      "ADJ      10030\n",
      "PUNCT     9622\n",
      "PRON      5791\n",
      "ADV       3974\n",
      "CCONJ     2801\n",
      "SCONJ     1882\n",
      "Name: tagged, dtype: int64\n",
      "CPU times: user 17.9 s, sys: 5.68 s, total: 23.5 s\n",
      "Wall time: 25.1 s\n"
     ]
    }
   ],
   "source": [
    "%%time\n",
    "a = prueba.sample(100000)\n",
    "print(a.tagged.value_counts())\n",
    "from sklearn.model_selection import train_test_split\n",
    "X,y = a.drop('tagged', axis=1), a['tagged']\n",
    "X_train, X_test, y_train, y_test = train_test_split(X, y, test_size=0.3)"
   ]
  },
  {
   "cell_type": "code",
   "execution_count": 11,
   "id": "93ce1cd3",
   "metadata": {},
   "outputs": [
    {
     "name": "stdout",
     "output_type": "stream",
     "text": [
      "CPU times: user 47min 17s, sys: 47min 8s, total: 1h 34min 25s\n",
      "Wall time: 32min 52s\n"
     ]
    },
    {
     "data": {
      "text/plain": [
       "<sklearn.metrics._plot.confusion_matrix.ConfusionMatrixDisplay at 0x7f9875706ac0>"
      ]
     },
     "execution_count": 11,
     "metadata": {},
     "output_type": "execute_result"
    },
    {
     "data": {
      "image/png": "[encoded data removed]",
      "text/plain": [
       "<Figure size 720x648 with 2 Axes>"
      ]
     },
     "metadata": {
      "needs_background": "light"
     },
     "output_type": "display_data"
    }
   ],
   "source": [
    "%%time\n",
    "#MUESTRA Y GRAFICO (CON SAMPLING DE 100K)\n",
    "from sklearn.ensemble import RandomForestClassifier\n",
    "from sklearn.metrics import confusion_matrix, f1_score,ConfusionMatrixDisplay\n",
    "import matplotlib.pyplot as plt \n",
    "\n",
    "rf = RandomForestClassifier(criterion = 'entropy',\n",
    "                           max_depth = 420,\n",
    "                           max_leaf_nodes = 1260,\n",
    "                           class_weight = 'balanced',\n",
    "                            n_jobs=-1)\n",
    "rf = rf.fit(X_train,y_train)\n",
    "\n",
    "yhat = rf.predict(X_test)\n",
    "cm = confusion_matrix(yhat, y_test) \n",
    "disp = ConfusionMatrixDisplay(confusion_matrix=cm,\n",
    "                              display_labels=rf.classes_)\n",
    "fig, ax = plt.subplots(figsize=(10,9))\n",
    "plt.title(f1_score(yhat,y_test, average='macro'))\n",
    "disp.plot(ax=ax)"
   ]
  },
  {
   "cell_type": "code",
   "execution_count": null,
   "id": "980548cc",
   "metadata": {
    "scrolled": true
   },
   "outputs": [],
   "source": [
    "with open('RF_all_model', 'wb') as f:\n",
    "    pickle.dump(rf, f)"
   ]
  },
  {
   "cell_type": "code",
   "execution_count": 13,
   "id": "f91fc208",
   "metadata": {},
   "outputs": [
    {
     "data": {
      "text/plain": [
       "array(['VERB', 'ADP', 'DET', 'NOUN'], dtype=object)"
      ]
     },
     "execution_count": 13,
     "metadata": {},
     "output_type": "execute_result"
    }
   ],
   "source": [
    "tagger('voy a un estadio')"
   ]
  },
  {
   "cell_type": "code",
   "execution_count": null,
   "id": "e8e39fa8",
   "metadata": {},
   "outputs": [],
   "source": []
  }
 ],
 "metadata": {
  "kernelspec": {
   "display_name": "Python 3 (ipykernel)",
   "language": "python",
   "name": "python3"
  },
  "language_info": {
   "codemirror_mode": {
    "name": "ipython",
    "version": 3
   },
   "file_extension": ".py",
   "mimetype": "text/x-python",
   "name": "python",
   "nbconvert_exporter": "python",
   "pygments_lexer": "ipython3",
   "version": "3.8.11"
  }
 },
 "nbformat": 4,
 "nbformat_minor": 5
}
